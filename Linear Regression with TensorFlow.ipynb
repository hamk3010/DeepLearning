{
  "nbformat": 4,
  "nbformat_minor": 0,
  "metadata": {
    "colab": {
      "name": "Linear Regression with TensorFlow.ipynb",
      "version": "0.3.2",
      "provenance": [],
      "include_colab_link": true
    },
    "kernelspec": {
      "display_name": "Python 3",
      "language": "python",
      "name": "python3"
    }
  },
  "cells": [
    {
      "cell_type": "markdown",
      "metadata": {
        "id": "view-in-github",
        "colab_type": "text"
      },
      "source": [
        "<a href=\"https://colab.research.google.com/github/hamk3010/DeepLearning/blob/master/Linear%20Regression%20with%20TensorFlow.ipynb\" target=\"_parent\"><img src=\"https://colab.research.google.com/assets/colab-badge.svg\" alt=\"Open In Colab\"/></a>"
      ]
    },
    {
      "metadata": {
        "id": "NXB1Ww0T1HbI",
        "colab_type": "text"
      },
      "cell_type": "markdown",
      "source": [
        "These ideas were adopted from [Hands-On Machine Learning with Scikit-Learn & Tensorflow](http://index-of.es/Varios-2/Hands%20on%20Machine%20Learning%20with%20Scikit%20Learn%20and%20Tensorflow.pdf). Tensorflow version used to run this code was: 1.13.0-rc0"
      ]
    },
    {
      "metadata": {
        "id": "JEb1QOP91B7Q",
        "colab_type": "code",
        "colab": {
          "base_uri": "https://localhost:8080/",
          "height": 34
        },
        "outputId": "736eb257-e232-4ea9-a8ee-272d079477ef"
      },
      "cell_type": "code",
      "source": [
        "import tensorflow as tf\n",
        "import numpy as np\n",
        "from sklearn.datasets import fetch_california_housing\n",
        "\n",
        "# Fetch the housing dataset\n",
        "housing = fetch_california_housing()\n",
        "m,n = housing.data.shape\n",
        "\n",
        "# Add a bias input feature (x0 = 1) to all training instances\n",
        "housing_data_plus_bias = np.c_[np.ones((m,1)), housing.data]"
      ],
      "execution_count": 3,
      "outputs": [
        {
          "output_type": "stream",
          "text": [
            "Downloading Cal. housing from https://ndownloader.figshare.com/files/5976036 to /root/scikit_learn_data\n"
          ],
          "name": "stderr"
        }
      ]
    },
    {
      "metadata": {
        "id": "d6tQHQtR1W_i",
        "colab_type": "code",
        "outputId": "34b893d1-72d1-4922-ff57-e5be840fb875",
        "colab": {
          "base_uri": "https://localhost:8080/",
          "height": 34
        }
      },
      "cell_type": "code",
      "source": [
        " print(tf.__version__)"
      ],
      "execution_count": 4,
      "outputs": [
        {
          "output_type": "stream",
          "text": [
            "1.13.0-rc0\n"
          ],
          "name": "stdout"
        }
      ]
    },
    {
      "metadata": {
        "id": "S4et9Ar-4tSy",
        "colab_type": "code",
        "colab": {}
      },
      "cell_type": "code",
      "source": [
        "#  Construction phase\n",
        "# Create two TensorFlow constant nodes, X and y to hold this data and the targets\n",
        "X = tf.constant(housing_data_plus_bias, dtype= tf.float32, name = \"X\")\n",
        "y = tf.constant(housing.target.reshape(-1,1), dtype= tf.float32, name = \"y\")\n",
        "XT = tf.transpose(X)\n",
        "theta = tf.matmul( tf.matmul(tf.matrix_inverse(tf.matmul(XT, X)), XT), y)"
      ],
      "execution_count": 0,
      "outputs": []
    },
    {
      "metadata": {
        "id": "2q-DHZfB4tS6",
        "colab_type": "code",
        "colab": {}
      },
      "cell_type": "code",
      "source": [
        "# Execution phase\n",
        "\n",
        "with tf.Session() as sess:\n",
        "    theta_value = theta.eval()"
      ],
      "execution_count": 0,
      "outputs": []
    },
    {
      "metadata": {
        "id": "BwrFi4h24tS9",
        "colab_type": "code",
        "outputId": "c3adecb7-68aa-4cc8-e5d3-6f6270f7f7c7",
        "colab": {
          "base_uri": "https://localhost:8080/",
          "height": 170
        }
      },
      "cell_type": "code",
      "source": [
        "print(theta_value)"
      ],
      "execution_count": 7,
      "outputs": [
        {
          "output_type": "stream",
          "text": [
            "[[-3.71037292e+01]\n",
            " [ 4.36282694e-01]\n",
            " [ 9.40542948e-03]\n",
            " [-1.06901854e-01]\n",
            " [ 6.43611908e-01]\n",
            " [-4.06625077e-06]\n",
            " [-3.78273334e-03]\n",
            " [-4.23094332e-01]\n",
            " [-4.36462164e-01]]\n"
          ],
          "name": "stdout"
        }
      ]
    },
    {
      "metadata": {
        "id": "PumZpSmJzWyh",
        "colab_type": "code",
        "colab": {}
      },
      "cell_type": "code",
      "source": [
        "# Lets normalize the input feature vectors first\n",
        "from sklearn.preprocessing import StandardScaler\n",
        "scaler = StandardScaler()\n",
        "scaler.fit(housing_data_plus_bias)\n",
        "scaled_housing_data_plus_bias = scaler.transform(housing_data_plus_bias)"
      ],
      "execution_count": 0,
      "outputs": []
    },
    {
      "metadata": {
        "id": "w5a4jZh5sixx",
        "colab_type": "text"
      },
      "cell_type": "markdown",
      "source": [
        "# Implementing Gradient Descent 🤖\n",
        "We will implement gradient descent by first manually 🏋️‍♀️computing the gradients, then we will use *autodiff* to compute the gradients automatically. Additioanlly, we will also use optimizers that come with TensorFlow."
      ]
    },
    {
      "metadata": {
        "id": "_0ojKfs5tnX5",
        "colab_type": "code",
        "colab": {}
      },
      "cell_type": "code",
      "source": [
        "#  Construction phase\n",
        "n_epochs = 1000\n",
        "learning_rate = 0.01\n",
        "\n",
        "X = tf.constant(scaled_housing_data_plus_bias, dtype= tf.float32, name=\"X\")\n",
        "y = tf.constant(housing.target.reshape(-1,1), dtype= tf.float32, name = \"Y\")\n",
        "\n",
        "# Create a tensor containing random values \n",
        "theta = tf.Variable(tf.random_uniform([ n + 1 , 1 ], -1.0, 1.0), name = \"theta\")\n",
        "y_pred = tf.matmul(X, theta, name = \"predictions\")\n",
        "error = y_pred - y\n",
        "mse = tf.reduce_mean(tf.square(error), name = \"mse\")\n",
        "# Manually compute gradients\n",
        "gradients = 2/m * tf.matmul(tf.transpose(X), error)\n",
        "\n",
        "# assign() function creates a new node that will assign a new value to a variable\n",
        "#  theta[n] = theta for the next step\n",
        "#  theta = theta in this step\n",
        "#  \n",
        "# Over here it is impplementing Batch Gradient Descent step\n",
        "#  theta[n] = theta - learning_rate * gradients\n",
        "training_op = tf.assign(theta, theta - learning_rate * gradients)\n",
        "\n",
        "init = tf.global_variables_initializer()\n"
      ],
      "execution_count": 0,
      "outputs": []
    },
    {
      "metadata": {
        "id": "B8zQjzcfyhTy",
        "colab_type": "code",
        "outputId": "9aa5dbff-70a2-4c98-f5d3-7a18574d3dac",
        "colab": {
          "base_uri": "https://localhost:8080/",
          "height": 187
        }
      },
      "cell_type": "code",
      "source": [
        "with tf.Session() as sess:\n",
        "  sess.run(init)\n",
        "  \n",
        "  for epoch in range(n_epochs):\n",
        "    if(epoch%100 == 0):\n",
        "      print(\"Epoch\", epoch, \"MSE = \", mse.eval() )\n",
        "      sess.run(training_op)\n",
        "  best_theta = theta.eval()"
      ],
      "execution_count": 12,
      "outputs": [
        {
          "output_type": "stream",
          "text": [
            "Epoch 0 MSE =  8.86133\n",
            "Epoch 100 MSE =  8.631515\n",
            "Epoch 200 MSE =  8.416905\n",
            "Epoch 300 MSE =  8.216426\n",
            "Epoch 400 MSE =  8.029071\n",
            "Epoch 500 MSE =  7.85392\n",
            "Epoch 600 MSE =  7.690111\n",
            "Epoch 700 MSE =  7.5368505\n",
            "Epoch 800 MSE =  7.393403\n",
            "Epoch 900 MSE =  7.259084\n"
          ],
          "name": "stdout"
        }
      ]
    },
    {
      "metadata": {
        "id": "3VCGk4_ZMvhB",
        "colab_type": "text"
      },
      "cell_type": "markdown",
      "source": [
        "### Using Autodiff  to calculate gradients with the same exact code. 🚘"
      ]
    },
    {
      "metadata": {
        "id": "kdMkGwgXM1ZK",
        "colab_type": "code",
        "colab": {}
      },
      "cell_type": "code",
      "source": [
        "#  Construction phase\n",
        "n_epochs = 1000\n",
        "learning_rate = 0.01\n",
        "\n",
        "X = tf.constant(scaled_housing_data_plus_bias, dtype= tf.float32, name=\"X\")\n",
        "y = tf.constant(housing.target.reshape(-1,1), dtype= tf.float32, name = \"Y\")\n",
        "\n",
        "# Create a tensor containing random values \n",
        "theta = tf.Variable(tf.random_uniform([ n + 1 , 1 ], -1.0, 1.0), name = \"theta\")\n",
        "y_pred = tf.matmul(X, theta, name = \"predictions\")\n",
        "error = y_pred - y\n",
        "mse = tf.reduce_mean(tf.square(error), name = \"mse\")\n",
        "\n",
        "# Use Autodiff to compute gradients\n",
        "gradients = tf.gradients(mse, [theta])[0]                # <-- CHANGE MADE HERE\n",
        "\n",
        "# assign() function creates a new node that will assign a new value to a variable\n",
        "#  theta[n] = theta for the next step\n",
        "#  theta = theta in this step\n",
        "#  \n",
        "# Over here it is impplementing Batch Gradient Descent step\n",
        "#  theta[n] = theta - learning_rate * gradients\n",
        "training_op = tf.assign(theta, theta - learning_rate * gradients)\n",
        "\n",
        "init = tf.global_variables_initializer()"
      ],
      "execution_count": 0,
      "outputs": []
    },
    {
      "metadata": {
        "id": "W5Y73yBNNRU1",
        "colab_type": "code",
        "colab": {
          "base_uri": "https://localhost:8080/",
          "height": 187
        },
        "outputId": "7c765b76-94de-485a-f715-036f598df942"
      },
      "cell_type": "code",
      "source": [
        "with tf.Session() as sess:\n",
        "  sess.run(init)\n",
        "  \n",
        "  for epoch in range(n_epochs):\n",
        "    if(epoch%100 == 0):\n",
        "      print(\"Epoch\", epoch, \"MSE = \", mse.eval() )\n",
        "      sess.run(training_op)\n",
        "  best_theta = theta.eval()"
      ],
      "execution_count": 14,
      "outputs": [
        {
          "output_type": "stream",
          "text": [
            "Epoch 0 MSE =  7.6984057\n",
            "Epoch 100 MSE =  7.5468493\n",
            "Epoch 200 MSE =  7.404633\n",
            "Epoch 300 MSE =  7.2711377\n",
            "Epoch 400 MSE =  7.1457915\n",
            "Epoch 500 MSE =  7.028057\n",
            "Epoch 600 MSE =  6.917439\n",
            "Epoch 700 MSE =  6.81347\n",
            "Epoch 800 MSE =  6.7157197\n",
            "Epoch 900 MSE =  6.623784\n"
          ],
          "name": "stdout"
        }
      ]
    },
    {
      "metadata": {
        "id": "XK78G_OYNWq7",
        "colab_type": "text"
      },
      "cell_type": "markdown",
      "source": [
        "### Using a Gradient Descent Optimizer 🎢"
      ]
    },
    {
      "metadata": {
        "id": "5RiWCDpONf5W",
        "colab_type": "code",
        "colab": {}
      },
      "cell_type": "code",
      "source": [
        "#  Construction phase\n",
        "n_epochs = 1000\n",
        "learning_rate = 0.01\n",
        "\n",
        "X = tf.constant(scaled_housing_data_plus_bias, dtype= tf.float32, name=\"X\")\n",
        "y = tf.constant(housing.target.reshape(-1,1), dtype= tf.float32, name = \"Y\")\n",
        "\n",
        "# Create a tensor containing random values \n",
        "theta = tf.Variable(tf.random_uniform([ n + 1 , 1 ], -1.0, 1.0), name = \"theta\")\n",
        "y_pred = tf.matmul(X, theta, name = \"predictions\")\n",
        "error = y_pred - y\n",
        "mse = tf.reduce_mean(tf.square(error), name = \"mse\")\n",
        "\n",
        "# Use an optimizer to compute gradients\n",
        "optimizer = tf.train.GradientDescentOptimizer(learning_rate= learning_rate)               # <-- CHANGE MADE HERE\n",
        "training_op = optimizer.minimize(mse)                                                     # <-- CHANGE MADE HERE\n",
        "\n",
        "init = tf.global_variables_initializer()"
      ],
      "execution_count": 0,
      "outputs": []
    },
    {
      "metadata": {
        "id": "qYSnH1sQN7Bg",
        "colab_type": "code",
        "colab": {
          "base_uri": "https://localhost:8080/",
          "height": 187
        },
        "outputId": "e4caa22a-e52d-4874-8a15-2717decd57b3"
      },
      "cell_type": "code",
      "source": [
        "with tf.Session() as sess:\n",
        "  sess.run(init)\n",
        "  \n",
        "  for epoch in range(n_epochs):\n",
        "    if(epoch%100 == 0):\n",
        "      print(\"Epoch\", epoch, \"MSE = \", mse.eval() )\n",
        "      sess.run(training_op)\n",
        "  best_theta = theta.eval()"
      ],
      "execution_count": 16,
      "outputs": [
        {
          "output_type": "stream",
          "text": [
            "Epoch 0 MSE =  7.9225955\n",
            "Epoch 100 MSE =  7.7412086\n",
            "Epoch 200 MSE =  7.5724034\n",
            "Epoch 300 MSE =  7.4152513\n",
            "Epoch 400 MSE =  7.268899\n",
            "Epoch 500 MSE =  7.1325545\n",
            "Epoch 600 MSE =  7.0054884\n",
            "Epoch 700 MSE =  6.887023\n",
            "Epoch 800 MSE =  6.7765346\n",
            "Epoch 900 MSE =  6.6734467\n"
          ],
          "name": "stdout"
        }
      ]
    },
    {
      "metadata": {
        "id": "4PPi_dRpO4cN",
        "colab_type": "text"
      },
      "cell_type": "markdown",
      "source": [
        "## Feeding Data to the training algorithm and implementing Mini-batch Gradient Descent 🛰\n",
        "In order to implement Mini-batch Gradient Descent we would need to replace X and y at every iteration with the next mini-batch. One way this can be done is by using a **placeholder node.** 💾\n",
        "\n",
        "A **placeholder node** don't actually perform any computation, they just output data we ask tell them to output during runtime. They are typically used to pass the training data to TensorFlow during training.\n",
        "\n"
      ]
    },
    {
      "metadata": {
        "id": "Pv_xXqluRah5",
        "colab_type": "code",
        "colab": {}
      },
      "cell_type": "code",
      "source": [
        "#  Construction phase\n",
        "n_epochs = 1000\n",
        "learning_rate = 0.01\n",
        "\n",
        "# To implement Mini-batch Gradient Descent we need to first change the \n",
        "# definition oX and y in the construction phase to make them placeholder nodes\n",
        "\n",
        "X= tf.placeholder(tf.float32, shape=(None, n+1), name = \"X\")\n",
        "y = tf.placeholder(tf.float32, shape=(None, 1), name= \"y\")\n",
        "\n",
        "# Create a tensor containing random values \n",
        "theta = tf.Variable(tf.random_uniform([ n + 1 , 1 ], -1.0, 1.0), name = \"theta\")\n",
        "y_pred = tf.matmul(X, theta, name = \"predictions\")\n",
        "error = y_pred - y\n",
        "mse = tf.reduce_mean(tf.square(error), name = \"mse\")\n",
        "\n",
        "# Use an optimizer to compute gradients\n",
        "optimizer = tf.train.GradientDescentOptimizer(learning_rate= learning_rate)              \n",
        "training_op = optimizer.minimize(mse)                                                     \n",
        "\n",
        "init = tf.global_variables_initializer()\n",
        "\n",
        "#  define batch size and compute total number of batches\n",
        "batch_size = 100\n",
        "n_batches = int(np.ceil(m / batch_size) )\n"
      ],
      "execution_count": 0,
      "outputs": []
    },
    {
      "metadata": {
        "id": "HeLJ3zEwUekn",
        "colab_type": "code",
        "colab": {}
      },
      "cell_type": "code",
      "source": [
        "### Dividing the batches phase\n",
        "\n",
        "# def fetch_batch(epoch, batch_index, batch_size):\n",
        "#   [...] loading the data from disk step\n",
        "#  return X_batch, y_batch"
      ],
      "execution_count": 0,
      "outputs": []
    },
    {
      "metadata": {
        "id": "5UtJM4hwUuoQ",
        "colab_type": "code",
        "colab": {}
      },
      "cell_type": "code",
      "source": [
        "# Execution phase\n",
        "\n",
        "with tf.Session() as sess:\n",
        "  sess.run(init)\n",
        "  \n",
        "  for epoch in range(n_epochs):\n",
        "    for batch_index in range(n_batches):\n",
        "      X_batch, y_batch = fetch_batch(epoch, batch_index, batch_size) #<-- fetch batch needs to be implemented above.\n",
        "      sess.run(training_op, feed_dict={X: X_batch, y:y_batch})\n",
        "      \n",
        "  best_theta = theta.eval()"
      ],
      "execution_count": 0,
      "outputs": []
    },
    {
      "metadata": {
        "id": "hK0Q9lYrXIAB",
        "colab_type": "text"
      },
      "cell_type": "markdown",
      "source": [
        "# Saving and Restoring Models 💾\n",
        "Saving a model on Tensorlfow is done by creating a Saver node at the **end** of the construction phase. Then in the execution phase, we can just call its *save()*  method whenever we want to save the mode, passing the session and path of the checkpoint file."
      ]
    },
    {
      "metadata": {
        "id": "Y10lTl4hX7Xp",
        "colab_type": "code",
        "colab": {}
      },
      "cell_type": "code",
      "source": [
        "#  Construction phase\n",
        "n_epochs = 1000\n",
        "learning_rate = 0.01\n",
        "\n",
        "# To implement Mini-batch Gradient Descent we need to first change the \n",
        "# definition oX and y in the construction phase to make them placeholder nodes\n",
        "\n",
        "X= tf.placeholder(tf.float32, shape=(None, n+1), name = \"X\")\n",
        "y = tf.placeholder(tf.float32, shape=(None, 1), name= \"y\")\n",
        "\n",
        "# Create a tensor containing random values \n",
        "theta = tf.Variable(tf.random_uniform([ n + 1 , 1 ], -1.0, 1.0), name = \"theta\")\n",
        "y_pred = tf.matmul(X, theta, name = \"predictions\")\n",
        "error = y_pred - y\n",
        "mse = tf.reduce_mean(tf.square(error), name = \"mse\")\n",
        "\n",
        "# Use an optimizer to compute gradients\n",
        "optimizer = tf.train.GradientDescentOptimizer(learning_rate= learning_rate)              \n",
        "training_op = optimizer.minimize(mse)                                                     \n",
        "\n",
        "init = tf.global_variables_initializer()\n",
        "\n",
        "saver = tf.train.Saver()\n",
        "\n",
        "#  Execution\n",
        "with tf.Session() as sess:\n",
        "  sess.run(init)\n",
        "  \n",
        "  for epoch in range(n_epochs):\n",
        "    if(epoch%100 == 0):\n",
        "      save_path = saver.save(sess, \"/tmp/my_model.ckpt\")  \n",
        "      \n",
        "    sess.run(training_op)\n",
        "  best_theta = theta.eval()\n",
        "  save_path = saver.save(sess, \"/tmp/my_model.ckpt\") "
      ],
      "execution_count": 0,
      "outputs": []
    },
    {
      "metadata": {
        "id": "LceM5EomYkQG",
        "colab_type": "code",
        "colab": {}
      },
      "cell_type": "code",
      "source": [
        "#  The model can be restored instead of calling the init node, we can just \n",
        "# call the restore method of the Saver object.\n",
        "\n",
        "with tf.Session() as sess:\n",
        "  saver.restore(sess, \"/tmp/my_model_final.ckpt\")\n",
        "\n"
      ],
      "execution_count": 0,
      "outputs": []
    }
  ]
}