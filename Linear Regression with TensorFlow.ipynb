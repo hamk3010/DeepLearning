{
  "nbformat": 4,
  "nbformat_minor": 0,
  "metadata": {
    "colab": {
      "name": "Linear Regression with TensorFlow.ipynb",
      "version": "0.3.2",
      "provenance": [],
      "include_colab_link": true
    },
    "kernelspec": {
      "display_name": "Python 3",
      "language": "python",
      "name": "python3"
    }
  },
  "cells": [
    {
      "cell_type": "markdown",
      "metadata": {
        "id": "view-in-github",
        "colab_type": "text"
      },
      "source": [
        "<a href=\"https://colab.research.google.com/github/hamk3010/DeepLearning/blob/master/Linear%20Regression%20with%20TensorFlow.ipynb\" target=\"_parent\"><img src=\"https://colab.research.google.com/assets/colab-badge.svg\" alt=\"Open In Colab\"/></a>"
      ]
    },
    {
      "metadata": {
        "id": "NXB1Ww0T1HbI",
        "colab_type": "text"
      },
      "cell_type": "markdown",
      "source": [
        "These examples were found in [Hands-On Machine Learning with Scikit-Learn & Tensorflow](http://index-of.es/Varios-2/Hands%20on%20Machine%20Learning%20with%20Scikit%20Learn%20and%20Tensorflow.pdf)"
      ]
    },
    {
      "metadata": {
        "id": "JEb1QOP91B7Q",
        "colab_type": "code",
        "colab": {}
      },
      "cell_type": "code",
      "source": [
        "import tensorflow as tf\n",
        "import numpy as np\n",
        "from sklearn.datasets import fetch_california_housing\n",
        "\n",
        "# Fetch the housing dataset\n",
        "housing = fetch_california_housing()\n",
        "m,n = housing.data.shape\n",
        "\n",
        "# Add a bias input feature (x0 = 1) to all training instances\n",
        "housing_data_plus_bias = np.c_[np.ones((m,1)), housing.data]"
      ],
      "execution_count": 0,
      "outputs": []
    },
    {
      "metadata": {
        "id": "d6tQHQtR1W_i",
        "colab_type": "code",
        "colab": {
          "base_uri": "https://localhost:8080/",
          "height": 34
        },
        "outputId": "5d30da16-ffda-4f14-f16d-1aaa7094afd3"
      },
      "cell_type": "code",
      "source": [
        " print(tf.__version__)"
      ],
      "execution_count": 14,
      "outputs": [
        {
          "output_type": "stream",
          "text": [
            "1.13.0-rc0\n"
          ],
          "name": "stdout"
        }
      ]
    },
    {
      "metadata": {
        "id": "S4et9Ar-4tSy",
        "colab_type": "code",
        "colab": {}
      },
      "cell_type": "code",
      "source": [
        "#  Construction phase\n",
        "# Create two TensorFlow constant nodes, X and y to hold this data and the targets\n",
        "X = tf.constant(housing_data_plus_bias, dtype= tf.float32, name = \"X\")\n",
        "y = tf.constant(housing.target.reshape(-1,1), dtype= tf.float32, name = \"y\")\n",
        "XT = tf.transpose(X)\n",
        "theta = tf.matmul( tf.matmul(tf.matrix_inverse(tf.matmul(XT, X)), XT), y)"
      ],
      "execution_count": 0,
      "outputs": []
    },
    {
      "metadata": {
        "id": "2q-DHZfB4tS6",
        "colab_type": "code",
        "colab": {}
      },
      "cell_type": "code",
      "source": [
        "# Execution phase\n",
        "\n",
        "with tf.Session() as sess:\n",
        "    theta_value = theta.eval()"
      ],
      "execution_count": 0,
      "outputs": []
    },
    {
      "metadata": {
        "id": "BwrFi4h24tS9",
        "colab_type": "code",
        "outputId": "dff33c3b-332a-4d6c-dcaa-b91b58768952",
        "colab": {
          "base_uri": "https://localhost:8080/",
          "height": 170
        }
      },
      "cell_type": "code",
      "source": [
        "print(theta_value)"
      ],
      "execution_count": 5,
      "outputs": [
        {
          "output_type": "stream",
          "text": [
            "[[-3.71037292e+01]\n",
            " [ 4.36282694e-01]\n",
            " [ 9.40542948e-03]\n",
            " [-1.06901854e-01]\n",
            " [ 6.43611908e-01]\n",
            " [-4.06625077e-06]\n",
            " [-3.78273334e-03]\n",
            " [-4.23094332e-01]\n",
            " [-4.36462164e-01]]\n"
          ],
          "name": "stdout"
        }
      ]
    },
    {
      "metadata": {
        "id": "PumZpSmJzWyh",
        "colab_type": "code",
        "colab": {}
      },
      "cell_type": "code",
      "source": [
        "# Lets normalize the input feature vectors first\n",
        "from sklearn.preprocessing import StandardScaler\n",
        "scaler = StandardScaler()\n",
        "scaler.fit(housing_data_plus_bias)\n",
        "scaled_housing_data_plus_bias = scaler.transform(housing_data_plus_bias)"
      ],
      "execution_count": 0,
      "outputs": []
    },
    {
      "metadata": {
        "id": "w5a4jZh5sixx",
        "colab_type": "text"
      },
      "cell_type": "markdown",
      "source": [
        "# Implementing Gradient Descent\n",
        "We will implement gradient descent by first manually compute the gradients, then we will use *autodiff* to compute the gradients automatically. Additioanlly, we will also use optimizers that come with TensorFlow."
      ]
    },
    {
      "metadata": {
        "id": "_0ojKfs5tnX5",
        "colab_type": "code",
        "colab": {
          "base_uri": "https://localhost:8080/",
          "height": 88
        },
        "outputId": "e0b023f3-d64a-4077-e7a0-32fd434b61eb"
      },
      "cell_type": "code",
      "source": [
        "#  Construction phase\n",
        "n_epochs = 1000\n",
        "learning_rate = 0.01\n",
        "\n",
        "X = tf.constant(scaled_housing_data_plus_bias, dtype= tf.float32, name=\"X\")\n",
        "y = tf.constant(housing.target.reshape(-1,1), dtype= tf.float32, name = \"Y\")\n",
        "\n",
        "# Create a tensor containing random values \n",
        "theta = tf.Variable(tf.random_uniform([ n + 1 , 1 ], -1.0, 1.0), name = \"theta\")\n",
        "y_pred = tf.matmul(X, theta, name = \"predictions\")\n",
        "error = y_pred - y\n",
        "mse = tf.reduce_mean(tf.square(error), name = \"mse\")\n",
        "# Manually compute gradients\n",
        "gradients = 2/m * tf.matmul(tf.transpose(X), error)\n",
        "\n",
        "# assign() function creates a new node that will assign a new value to a variable\n",
        "#  theta[n] = theta for the next step\n",
        "#  theta = theta in this step\n",
        "#  \n",
        "# Over here it is impplementing Batch Gradient Descent step\n",
        "#  theta[n] = theta - learning_rate * gradients\n",
        "training_op = tf.assign(theta, theta - learning_rate * gradients)\n",
        "\n",
        "init = tf.global_variables_initializer()\n"
      ],
      "execution_count": 12,
      "outputs": [
        {
          "output_type": "stream",
          "text": [
            "WARNING:tensorflow:From /usr/local/lib/python3.6/dist-packages/tensorflow/python/framework/op_def_library.py:263: colocate_with (from tensorflow.python.framework.ops) is deprecated and will be removed in a future version.\n",
            "Instructions for updating:\n",
            "Colocations handled automatically by placer.\n"
          ],
          "name": "stdout"
        }
      ]
    },
    {
      "metadata": {
        "id": "B8zQjzcfyhTy",
        "colab_type": "code",
        "colab": {
          "base_uri": "https://localhost:8080/",
          "height": 187
        },
        "outputId": "ee185f8c-391b-4aae-bde5-f04cd35144f9"
      },
      "cell_type": "code",
      "source": [
        "with tf.Session() as sess:\n",
        "  sess.run(init)\n",
        "  \n",
        "  for epoch in range(n_epochs):\n",
        "    if(epoch%100 == 0):\n",
        "      print(\"Epoch\", epoch, \"MSE = \", mse.eval() )\n",
        "      sess.run(training_op)\n",
        "  best_theta = theta.eval()"
      ],
      "execution_count": 13,
      "outputs": [
        {
          "output_type": "stream",
          "text": [
            "Epoch 0 MSE =  9.255035\n",
            "Epoch 100 MSE =  9.054788\n",
            "Epoch 200 MSE =  8.864392\n",
            "Epoch 300 MSE =  8.683327\n",
            "Epoch 400 MSE =  8.511095\n",
            "Epoch 500 MSE =  8.347228\n",
            "Epoch 600 MSE =  8.191288\n",
            "Epoch 700 MSE =  8.04286\n",
            "Epoch 800 MSE =  7.901554\n",
            "Epoch 900 MSE =  7.767001\n"
          ],
          "name": "stdout"
        }
      ]
    },
    {
      "metadata": {
        "id": "S4ofRVxd09fg",
        "colab_type": "code",
        "colab": {}
      },
      "cell_type": "code",
      "source": [
        ""
      ],
      "execution_count": 0,
      "outputs": []
    }
  ]
}